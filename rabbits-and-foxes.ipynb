{
 "cells": [
  {
   "cell_type": "markdown",
   "metadata": {},
   "source": [
    "# Rabbits and foxes\n",
    "\n",
    "There are initially 400 rabbits and 200 foxes on a farm (but it could be two cell types in a 96 well plate or something, if you prefer bio-engineering analogies). Plot the concentration of foxes and rabbits as a function of time for a period of up to 600 days. The predator-prey relationships are given by the following set of coupled ordinary differential equations:\n",
    "\n",
    "\\begin{align}\n",
    "\\frac{dR}{dt} &= k_1 R - k_2 R F \\tag{1}\\\\\n",
    "\\frac{dF}{dt} &= k_3 R F - k_4 F \\tag{2}\\\\\n",
    "\\end{align}\n",
    "\n",
    "* Constant for growth of rabbits $k_1 = 0.015$ day<sup>-1</sup>\n",
    "* Constant for death of rabbits being eaten by foxes $k_2 = 0.00004$ day<sup>-1</sup> foxes<sup>-1</sup>\n",
    "* Constant for growth of foxes after eating rabbits $k_3 = 0.0004$ day<sup>-1</sup> rabbits<sup>-1</sup>\n",
    "* Constant for death of foxes $k_1 = 0.04$ day<sup>-1</sup>\n",
    "\n",
    "Also plot the number of foxes versus the number of rabbits.\n",
    "\n",
    "Then try also with \n",
    "* $k_3 = 0.00004$ day<sup>-1</sup> rabbits<sup>-1</sup>\n",
    "* $t_{final} = 800$ days\n",
    "\n",
    "*This problem is based on one from Chapter 1 of H. Scott Fogler's textbook \"Essentials of Chemical Reaction Engineering\".*\n"
   ]
  },
  {
   "cell_type": "markdown",
   "metadata": {
    "collapsed": true
   },
   "source": [
    "# Solving ODEs\n",
    "\n",
    "*Much of the following content reused under Creative Commons Attribution license CC-BY 4.0, code under MIT license (c)2014 L.A. Barba, G.F. Forsyth. Partly based on David Ketcheson's pendulum lesson, also under CC-BY. https://github.com/numerical-mooc/numerical-mooc*\n",
    "\n",
    "Let's step back for a moment. Suppose we have a first-order ODE $u'=f(u)$. You know that if we were to integrate this, there would be an arbitrary constant of integration. To find its value, we do need to know one point on the curve $(t, u)$. When the derivative in the ODE is with respect to time, we call that point the _initial value_ and write something like this:\n",
    "\n",
    "$$u(t=0)=u_0$$\n",
    "\n",
    "In the case of a second-order ODE, we already saw how to write it as a system of first-order ODEs, and we would need an initial value for each equation: two conditions are needed to determine our constants of integration. The same applies for higher-order ODEs: if it is of order $n$, we can write it as $n$ first-order equations, and we need $n$ known values. If we have that data, we call the problem an _initial value problem_.\n",
    "\n",
    "Remember the definition of a derivative? The derivative represents the slope of the tangent at a point of the curve $u=u(t)$, and the definition of the derivative $u'$ for a function is:\n",
    "\n",
    "$$u'(t) = \\lim_{\\Delta t\\rightarrow 0} \\frac{u(t+\\Delta t)-u(t)}{\\Delta t}$$\n",
    "\n",
    "If the step $\\Delta t$ is already very small, we can _approximate_ the derivative by dropping the limit. We can write:\n",
    "\n",
    "$$\\begin{equation}\n",
    "u(t+\\Delta t) \\approx u(t) + u'(t) \\Delta t\n",
    "\\end{equation}$$\n",
    "\n",
    "With this equation, and because we know $u'(t)=f(u)$, if we have an initial value, we can step by $\\Delta t$ and find the value of $u(t+\\Delta t)$, then we can take this value, and find $u(t+2\\Delta t)$, and so on: we say that we _step in time_, numerically finding the solution $u(t)$ for a range of values: $t_1, t_2, t_3 \\cdots$, each separated by $\\Delta t$. The numerical solution of the ODE is simply the table of values $t_i, u_i$ that results from this process.\n"
   ]
  },
  {
   "cell_type": "markdown",
   "metadata": {},
   "source": [
    "# Euler's method\n",
    "*Also known as \"Simple Euler\" or sometimes \"Simple Error\".*\n",
    "\n",
    "The approximate solution at time $t_n$ is $u_n$, and the numerical solution of the differential equation consists of computing a sequence of approximate solutions by the following formula, based on Equation (10):\n",
    "\n",
    "$$u_{n+1} = u_n + \\Delta t \\,f(u_n).$$\n",
    "\n",
    "This formula is called **Euler's method**.\n",
    "\n",
    "For the equations of the rabbits and foxes, Euler's method gives the following algorithm that we need to implement in code:\n",
    "\n",
    "\\begin{align}\n",
    "R_{n+1} & = R_n + \\Delta t \\left(k_1 R_n - k_2 R_n F_n \\right) \\\\\n",
    "F_{n+1} & = F_n + \\Delta t \\left( k_3 R_n F-n - k_4 F_n \\right).\n",
    "\\end{align}\n"
   ]
  },
  {
   "cell_type": "code",
   "execution_count": 1,
   "metadata": {
    "collapsed": true
   },
   "outputs": [],
   "source": [
    "### Class practice: Euler's method"
   ]
  },
  {
   "cell_type": "code",
   "execution_count": 2,
   "metadata": {
    "collapsed": true
   },
   "outputs": [],
   "source": [
    "%matplotlib inline\n",
    "import numpy as np\n",
    "from matplotlib import pyplot as plt"
   ]
  },
  {
   "cell_type": "code",
   "execution_count": 3,
   "metadata": {
    "collapsed": false
   },
   "outputs": [
    {
     "data": {
      "text/plain": [
       "[<matplotlib.lines.Line2D at 0x10cb1cc18>]"
      ]
     },
     "execution_count": 3,
     "metadata": {},
     "output_type": "execute_result"
    },
    {
     "data": {
      "image/png": "[encoded data removed]",
      "text/plain": [
       "<matplotlib.figure.Figure at 0x10cb1cbe0>"
      ]
     },
     "metadata": {},
     "output_type": "display_data"
    }
   ],
   "source": [
    "k1 = 0.015\n",
    "k2 = 0.00004\n",
    "k3 = 0.0004\n",
    "k4 = 0.04\n",
    "end_day = 600\n",
    "step_size = 0.5\n",
    "R = np.arange(0, end_day, step_size)\n",
    "F = np.arange(0, end_day, step_size)\n",
    "R[0] = 400\n",
    "F[0] = 200\n",
    "i = len(R)\n",
    "delta_t = end_day / i\n",
    "time = np.arange(0, end_day, step_size)\n",
    "\n",
    "for n in range(i-1):\n",
    "    R[n+1] = R[n] + delta_t * (k1*R[n] - k2*R[n]*F[n])\n",
    "    F[n+1] = F[n] + delta_t * (k3*R[n]*F[n] - k4*F[n])\n",
    "    \n",
    "plt.plot(time, R)\n",
    "plt.plot(time, F)"
   ]
  },
  {
   "cell_type": "code",
   "execution_count": 4,
   "metadata": {
    "collapsed": true
   },
   "outputs": [],
   "source": [
    "### Assignment: odeint function"
   ]
  },
  {
   "cell_type": "code",
   "execution_count": 5,
   "metadata": {
    "collapsed": true
   },
   "outputs": [],
   "source": [
    "%matplotlib inline\n",
    "import numpy as np\n",
    "from matplotlib import pyplot as plt\n",
    "from scipy.integrate import odeint"
   ]
  },
  {
   "cell_type": "code",
   "execution_count": 6,
   "metadata": {
    "collapsed": false
   },
   "outputs": [
    {
     "data": {
      "image/png": "[encoded data removed]",
      "text/plain": [
       "<matplotlib.figure.Figure at 0x10f880588>"
      ]
     },
     "metadata": {},
     "output_type": "display_data"
    },
    {
     "name": "stdout",
     "output_type": "stream",
     "text": [
      "The second peak of fox population is 2804 at 428 day.\n"
     ]
    }
   ],
   "source": [
    "# Kintetic constant\n",
    "k_1 = 0.015\n",
    "k_2 = 0.00004\n",
    "k_3 = 0.0004\n",
    "k_4 = 0.04\n",
    "\n",
    "# Initial condition\n",
    "rabbit_0 = 400\n",
    "fox_0 = 200\n",
    "\n",
    "# Define\n",
    "day = 600\n",
    "step_size = 0.1\n",
    "\n",
    "# Define function\n",
    "def f(y, t):\n",
    "    R, F = y\n",
    "    dR = k_1*R - k_2*R*F\n",
    "    dF = k_3*R*F - k_4*F\n",
    "    return (dR, dF)\n",
    "\n",
    "# Solve ODE\n",
    "initial = [rabbit_0, fox_0]\n",
    "times = np.arange(0, day, step_size)\n",
    "result = odeint (f, initial, times)\n",
    "\n",
    "# Result\n",
    "rabbit = result[:,0]\n",
    "fox = result[:,1]\n",
    "\n",
    "# Plot\n",
    "plt.plot(times, rabbit, label='Rabbits')\n",
    "plt.plot(times, fox, label='Fox')\n",
    "plt.xlabel('Day')\n",
    "plt.ylabel('Number of animal')\n",
    "plt.legend(loc='upper center')\n",
    "plt.show()\n",
    "\n",
    "# Second peak and corresponding day\n",
    "fox_secondhalf = fox[len(fox)//2:]\n",
    "times_secondhalf = times[len(times)//2:]\n",
    "peak_fox = int(np.round(np.max(fox_secondhalf)))\n",
    "peak_times = int(np.round(times_secondhalf[fox_secondhalf.argmax()]))\n",
    "\n",
    "print(\"The second peak of fox population is\", peak_fox, \"at\", peak_times, \"day.\")"
   ]
  },
  {
   "cell_type": "code",
   "execution_count": 7,
   "metadata": {
    "collapsed": true
   },
   "outputs": [],
   "source": [
    "### Assignment: KMC"
   ]
  },
  {
   "cell_type": "code",
   "execution_count": 8,
   "metadata": {
    "collapsed": true
   },
   "outputs": [],
   "source": [
    "%matplotlib inline\n",
    "import numpy as np\n",
    "from matplotlib import pyplot as plt"
   ]
  },
  {
   "cell_type": "code",
   "execution_count": 9,
   "metadata": {
    "collapsed": false
   },
   "outputs": [
    {
     "name": "stdout",
     "output_type": "stream",
     "text": [
      "100 trials have been done.\n",
      "200 trials have been done.\n",
      "300 trials have been done.\n",
      "400 trials have been done.\n",
      "500 trials have been done.\n",
      "600 trials have been done.\n",
      "700 trials have been done.\n",
      "800 trials have been done.\n",
      "900 trials have been done.\n",
      "1000 trials have been done.\n",
      "1100 trials have been done.\n",
      "1200 trials have been done.\n",
      "1300 trials have been done.\n",
      "1400 trials have been done.\n",
      "1500 trials have been done.\n",
      "1600 trials have been done.\n",
      "1700 trials have been done.\n",
      "1800 trials have been done.\n",
      "1900 trials have been done.\n",
      "2000 trials have been done.\n",
      "2100 trials have been done.\n",
      "2200 trials have been done.\n",
      "2300 trials have been done.\n",
      "2400 trials have been done.\n",
      "2500 trials have been done.\n",
      "2600 trials have been done.\n",
      "2700 trials have been done.\n",
      "2800 trials have been done.\n",
      "2900 trials have been done.\n",
      "3000 trials have been done.\n",
      "3100 trials have been done.\n",
      "3200 trials have been done.\n",
      "3300 trials have been done.\n",
      "3400 trials have been done.\n",
      "3500 trials have been done.\n",
      "3600 trials have been done.\n",
      "3700 trials have been done.\n",
      "3800 trials have been done.\n",
      "3900 trials have been done.\n",
      "4000 trials have been done.\n",
      "4100 trials have been done.\n",
      "4200 trials have been done.\n",
      "4300 trials have been done.\n",
      "4400 trials have been done.\n",
      "4500 trials have been done.\n",
      "4600 trials have been done.\n",
      "4700 trials have been done.\n",
      "4800 trials have been done.\n",
      "4900 trials have been done.\n",
      "5000 trials have been done.\n"
     ]
    },
    {
     "data": {
      "image/png": "[encoded data removed]",
      "text/plain": [
       "<matplotlib.figure.Figure at 0x10fc03f28>"
      ]
     },
     "metadata": {},
     "output_type": "display_data"
    }
   ],
   "source": [
    "# Kintetic constant\n",
    "k__1 = 0.015\n",
    "k__2 = 0.00004\n",
    "k__3 = 0.0004\n",
    "k__4 = 0.04\n",
    "\n",
    "# Initial condition\n",
    "rabbits_0 = 400\n",
    "foxes_0 = 200\n",
    "\n",
    "# Define\n",
    "j = 0\n",
    "count_fox_dieout = 0\n",
    "count_rabbit_dieout = 0\n",
    "fox_peaks = []\n",
    "corresponding_ts = []\n",
    "running_print = 1\n",
    "\n",
    "while j < 5000:\n",
    "\n",
    "# Create empty list and initiate\n",
    "    rabbits = []\n",
    "    foxes = []\n",
    "    t = []\n",
    "    rabbits.append(rabbits_0)\n",
    "    foxes.append(foxes_0)\n",
    "    t.append(0)\n",
    "\n",
    "    for i in range(50000):\n",
    "\n",
    "# Calculate KMC parameter\n",
    "        r_k1 = k__1 * rabbits[i]\n",
    "        r_k2 = k__2 * rabbits[i] * foxes[i]\n",
    "        r_k3 = k__3 * rabbits[i] * foxes[i]\n",
    "        r_k4 = k__4 * foxes[i]\n",
    "\n",
    "        R_k1 = r_k1\n",
    "        R_k2 = r_k1 + r_k2\n",
    "        R_k3 = r_k1 + r_k2 + r_k3\n",
    "        Q_k = r_k1 + r_k2 + r_k3 + r_k4\n",
    "\n",
    "# Count the situation rabbits and foxes both die out (Q_k = 0)\n",
    "        if Q_k == 0.0:\n",
    "#            count_rabbit_dieout = count_rabbit_dieout + 1\n",
    "            j = j + 1\n",
    "            break\n",
    "\n",
    "        u = 1.0 - np.random.rand()\n",
    "        uQ = u * Q_k\n",
    "\n",
    "# Decide which event happens\n",
    "        if uQ <= R_k1:\n",
    "            rabbits.append(rabbits[i] + 1)\n",
    "            foxes.append(foxes[i])\n",
    "        elif R_k1 < uQ <= R_k2:\n",
    "            rabbits.append(rabbits[i] - 1)\n",
    "            foxes.append(foxes[i])\n",
    "        elif R_k2 < uQ <= R_k3:\n",
    "            rabbits.append(rabbits[i])\n",
    "            foxes.append(foxes[i] + 1)\n",
    "        elif R_k3 < uQ <= Q_k:\n",
    "            rabbits.append(rabbits[i])\n",
    "            foxes.append(foxes[i] - 1)\n",
    "\n",
    "# Update the time\n",
    "        v = 1.0 - np.random.rand()\n",
    "        delta_t = (1/Q_k) * (np.log(1/v))\n",
    "        t.append(t[i] + delta_t)\n",
    "\n",
    "# Set the end day\n",
    "        if t[-1] >=600:\n",
    "            j = j + 1\n",
    "            break\n",
    "\n",
    "# Count the situation foxes die out\n",
    "    if foxes[-1] == 0:\n",
    "        count_fox_dieout = count_fox_dieout + 1\n",
    "\n",
    "# Plot the situation foxes don't die out\n",
    "    elif rabbits[-1] != 0:\n",
    "        plt.plot(t, rabbits, 'b')\n",
    "        plt.plot(t, foxes, 'g')\n",
    "\n",
    "# Second peaks \n",
    "        foxes_secondhalf = foxes[len(foxes)//2:]\n",
    "        t_secondhalf = t[len(t)//2:]\n",
    "        peak_foxes = int(round(np.max(foxes_secondhalf)))\n",
    "        peak_t = int(np.round(t_secondhalf[foxes_secondhalf.index(np.max(foxes_secondhalf))]))\n",
    "        fox_peaks.append(peak_foxes)\n",
    "        corresponding_ts.append(peak_t)\n",
    "\n",
    "# Just want to know whether the program is still running\n",
    "    if j == 100 * running_print:\n",
    "        print(j, \"trials have been done.\")\n",
    "        running_print = running_print + 1\n",
    "\n",
    "# Result calculation\n",
    "# 1. Expected second peak\n",
    "ave_peak = int(round(np.average(fox_peaks)))\n",
    "ave_t = int(round(np.average(corresponding_ts)))\n",
    "\n",
    "# 2. Interquartile range \n",
    "IQR1_peak = int(np.round(np.percentile(fox_peaks, [25])))\n",
    "IQR3_peak = int(np.round(np.percentile(fox_peaks, [75])))\n",
    "IQR1_t = int(np.round(np.percentile(corresponding_ts, [25])))\n",
    "IQR3_t = int(np.round(np.percentile(corresponding_ts, [75])))\n",
    "\n",
    "# 3. Possibility\n",
    "possibility = np.round(count_fox_dieout / j * 100, 2)\n",
    "\n",
    "# Plot\n",
    "plt.legend(['Rabbit', 'Fox'])\n",
    "plt.xlabel('Day')\n",
    "plt.ylabel('Population')\n",
    "plt.show()"
   ]
  },
  {
   "cell_type": "code",
   "execution_count": 10,
   "metadata": {
    "collapsed": false
   },
   "outputs": [
    {
     "name": "stdout",
     "output_type": "stream",
     "text": [
      "The results are based on 5000 trials:\n",
      "1. The expected location of the second peak in foxes: 2339 foxes at 401 day.\n",
      "2. The interquartile range of the second peak in foxes: 1941 - 2640 foxes at 379 - 421 days.\n",
      "3. The probability that the foxes die out before 600 days are complete: 70.4 %.\n"
     ]
    }
   ],
   "source": [
    "# Answer\n",
    "print(\"The results are based on\", j, \"trials:\")\n",
    "print(\"1. The expected location of the second peak in foxes:\", ave_peak, \"foxes at\", ave_t, \"day.\")\n",
    "print(\"2. The interquartile range of the second peak in foxes:\", IQR1_peak, \"-\", IQR3_peak, \"foxes at\", \n",
    "      IQR1_t, \"-\", IQR3_t, \"days.\")\n",
    "print(\"3. The probability that the foxes die out before 600 days are complete:\", possibility, \"%.\")"
   ]
  },
  {
   "cell_type": "code",
   "execution_count": 11,
   "metadata": {
    "collapsed": false
   },
   "outputs": [
    {
     "name": "stdout",
     "output_type": "stream",
     "text": [
      "Things learned from this assignment:\n",
      "1. Different types of containers have different operators. For example, array doesn't have name.index, and list doesn't have name.argmax. Choosing the right type of container coulde make work easier. However, sometimes we have to choose one type instead of the other, just like it has to be list for the KMC.\n",
      "2. Making use of other resources is very helpful. Every time having a problem that needs a long code to carry out, Google it first, and we may find there is a simple operation from a library. Since we are all using the GitHub, code written by our classmates is a good reference (but we need to learn it, not simply copying it).\n",
      "3. Understanding error messages is very important.\n"
     ]
    }
   ],
   "source": [
    "### Things learned from this assignment\n",
    "print(\"Things learned from this assignment:\")\n",
    "print(\"1. Different types of containers have different operators. For example, array doesn't have name.index, and list doesn't have name.argmax. Choosing the right type of container coulde make work easier. However, sometimes we have to choose one type instead of the other, just like it has to be list for the KMC.\")\n",
    "print(\"2. Making use of other resources is very helpful. Every time having a problem that needs a long code to carry out, Google it first, and we may find there is a simple operation from a library. Since we are all using the GitHub, code written by our classmates is a good reference (but we need to learn it, not simply copying it).\")\n",
    "print(\"3. Understanding error messages is very important.\")"
   ]
  }
 ],
 "metadata": {
  "anaconda-cloud": {},
  "kernelspec": {
   "display_name": "Python [Root]",
   "language": "python",
   "name": "Python [Root]"
  },
  "language_info": {
   "codemirror_mode": {
    "name": "ipython",
    "version": 3
   },
   "file_extension": ".py",
   "mimetype": "text/x-python",
   "name": "python",
   "nbconvert_exporter": "python",
   "pygments_lexer": "ipython3",
   "version": "3.5.2"
  }
 },
 "nbformat": 4,
 "nbformat_minor": 1
}
